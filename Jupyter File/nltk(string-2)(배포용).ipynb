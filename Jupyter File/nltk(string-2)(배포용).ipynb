{
 "cells": [
  {
   "cell_type": "markdown",
   "metadata": {},
   "source": [
    "# nltk - 문자열 연산 기초(2)"
   ]
  },
  {
   "cell_type": "markdown",
   "metadata": {},
   "source": [
    "All rights reserved, 2021, By Youn-Sik Hong. 수업 목적으로만 활용 가능."
   ]
  },
  {
   "cell_type": "markdown",
   "metadata": {},
   "source": [
    "- 참고 사이트\n",
    "    - nltk book 1. Language Processing and Python(https://www.nltk.org/book/ch01.html) 내용을 참고해서 자료를 만듦.\n",
    "    - nltk book의 1장 예제 일부 인용."
   ]
  },
  {
   "cell_type": "markdown",
   "metadata": {},
   "source": [
    "## 빈도 분포(frequency distribution)\n",
    "- 자연어 처리에서 중요한 작업 중 하나는 말뭉치에서 단어 발생 빈도를 조사하는 것입니다.\n",
    "- nltk에서는 빈도 분포 분석을 위해 **FreqDist** 클래스를 사용합니다.\n",
    "    - 파이썬에서는 FreqDist 클래스와 유사한 **Counter** 컬렉션을 제공하며, 2개의 사용 방법은 거의 같습니다."
   ]
  },
  {
   "cell_type": "code",
   "execution_count": null,
   "metadata": {},
   "outputs": [],
   "source": [
    "from nltk.book import *"
   ]
  },
  {
   "cell_type": "markdown",
   "metadata": {},
   "source": [
    "단순히 중복되지 않은 단어만 찾을 목적이라면, set 연산을 하면 됩니다."
   ]
  },
  {
   "cell_type": "code",
   "execution_count": null,
   "metadata": {},
   "outputs": [],
   "source": [
    "print(len(set(text1)))"
   ]
  },
  {
   "cell_type": "markdown",
   "metadata": {},
   "source": [
    "- **FreqDist** 클래스의 객체 *fdist1* 를 생성하면 단어 발생 빈도도 함께 알 수 있습니다. \n",
    "- *fdist1* 객체의 멤버인 dictionary 객체에 단어(key)와 발생 빈도(value)를 저장하고 있기 때문이죠."
   ]
  },
  {
   "cell_type": "code",
   "execution_count": null,
   "metadata": {},
   "outputs": [],
   "source": [
    "fdist1 = FreqDist(text1)\n",
    "print(len(fdist1))\n",
    "print(type(fdist1.keys()), type(fdist1.values()))"
   ]
  },
  {
   "cell_type": "markdown",
   "metadata": {},
   "source": [
    "19,317개 단어를 모두 출력하는 대신 10개 단어만 출력해 보겠습니다."
   ]
  },
  {
   "cell_type": "code",
   "execution_count": null,
   "metadata": {},
   "outputs": [],
   "source": [
    "#print(fdist1.keys())\n",
    "#print(fdist1.values())\n",
    "\n",
    "i = 0\n",
    "for (k, v) in zip(fdist1.keys(), fdist1.values()):\n",
    "    print('word = {:10s} freq = {:5d}'.format(k, v))\n",
    "    i += 1\n",
    "    if (i > 10): break"
   ]
  },
  {
   "cell_type": "markdown",
   "metadata": {},
   "source": [
    "- **FreqDist** 클래스가 별게 아니라구요. 이제부터 **FreqDist** 클래스 세계에 풍덩 빠져 보기로 하죠!\n",
    "- **most_common** 메소드는 발생 빈도 순으로 정렬된 단어를 쉽게 확인할 수 있습니다.\n",
    "    - **most_common** 메소드는 원소가 *tuple*인 리스트를 반환합니다.\n",
    "    - tuple은 (*단어, 발생빈도*) 정보를 저장하고 있습니다."
   ]
  },
  {
   "cell_type": "code",
   "execution_count": null,
   "metadata": {},
   "outputs": [],
   "source": [
    "mc50 = fdist1.most_common(50) #상위 50개 단어\n",
    "mc50[:10]"
   ]
  },
  {
   "cell_type": "markdown",
   "metadata": {},
   "source": [
    "단어별 발생 빈도도 쉽게 확인할 수 있습니다. *fdist1*이 dictionary 객체로 저장하고 있다는 걸 기억하세요."
   ]
  },
  {
   "cell_type": "code",
   "execution_count": null,
   "metadata": {},
   "outputs": [],
   "source": [
    "fdist1['whale']\n",
    "#fdist1['affection']"
   ]
  },
  {
   "cell_type": "markdown",
   "metadata": {},
   "source": [
    "- 상위 50개 단어가 전체 단어 중 어느 정도 빈도를 차지하는지 구해 볼 수 있습니다.\n",
    "- tuple에 속한 원소 중 2번째 원소인 발생빈도만 모두 더하면 되기 때문에 **e[1]**으로 표시했습니다."
   ]
  },
  {
   "cell_type": "code",
   "execution_count": null,
   "metadata": {},
   "outputs": [],
   "source": [
    "import numpy as np\n",
    "\n",
    "sum = 0\n",
    "for e in mc50:\n",
    "    sum += e[1]\n",
    "print('%2.2f%%'% np.round(sum/len(text1)*100, 5))"
   ]
  },
  {
   "cell_type": "markdown",
   "metadata": {},
   "source": [
    "- 재롱덩어리 **FreqDist**가 갖고 있는 마지막 재주를 감상해 보기로 하죠.\n",
    "    - **plot** 메소드는 단어의 발생 빈도를 그래프로 출력합니다. \n",
    "    - 50은 발생 빈도 기준 상위 50개 단어를 가리킵니다.\n",
    "    - 누적 빈도를 보려면 *cumulative* 옵션을 *True*로 설정하면 되구요. 설정하지 않으면 개별 단어의 빈도를 보여줍니다."
   ]
  },
  {
   "cell_type": "code",
   "execution_count": null,
   "metadata": {},
   "outputs": [],
   "source": [
    "fdist1.plot(50, cumulative=True)\n",
    "#fdist1.plot(50)"
   ]
  },
  {
   "cell_type": "markdown",
   "metadata": {},
   "source": [
    "## 빈도 분포 응용\n",
    "- 단어가 영어 알파벳일 경우 소문자로 변환 후 빈도를 구합니다. \n",
    "- 또, 단어 길이가 3이상인 경우로 제한해서 빈도를 구해보겠습니다."
   ]
  },
  {
   "cell_type": "code",
   "execution_count": null,
   "metadata": {},
   "outputs": [],
   "source": [
    "dist = FreqDist(ch.lower() for ch in text1 if ch.isalpha())\n",
    "#dist = FreqDist(ch.lower() for ch in text1 if ch.isalpha() and len(ch)>2)\n",
    "len(dist)"
   ]
  },
  {
   "cell_type": "code",
   "execution_count": null,
   "metadata": {},
   "outputs": [],
   "source": [
    "dist.most_common(5)"
   ]
  },
  {
   "cell_type": "code",
   "execution_count": null,
   "metadata": {},
   "outputs": [],
   "source": [
    "[(count, char) for (char, count) in dist.most_common(10)]"
   ]
  },
  {
   "cell_type": "markdown",
   "metadata": {},
   "source": [
    "## 조건을 만족하는 단어 찾기"
   ]
  },
  {
   "cell_type": "code",
   "execution_count": null,
   "metadata": {},
   "outputs": [],
   "source": [
    "V = set(text1) #중복 단어 제거"
   ]
  },
  {
   "cell_type": "markdown",
   "metadata": {},
   "source": [
    "- 단어 길이가 15이상인 단어만 찾아 리스트에 저장합니다. \n",
    "- 파이썬 언어의 강점을 살린 이런 코딩 스타일에 익숙해져야 합니다."
   ]
  },
  {
   "cell_type": "code",
   "execution_count": null,
   "metadata": {},
   "outputs": [],
   "source": [
    "long_words = [w for w in V if len(w)>=15]\n",
    "len(sorted(long_words))"
   ]
  },
  {
   "cell_type": "code",
   "execution_count": null,
   "metadata": {},
   "outputs": [],
   "source": [
    "long_words[:10]"
   ]
  },
  {
   "cell_type": "markdown",
   "metadata": {},
   "source": [
    "## 단어 길이에 따른 빈도 분포\n",
    "- 단어 길이를 기준으로 빈도를 조사합니다. \n",
    "- 단어에서 재일 짧은 길이는 1이죠. 그렇다면 가장 길이가 긴 단어는? 조사하면 다 나오죠. 20개입니다."
   ]
  },
  {
   "cell_type": "code",
   "execution_count": null,
   "metadata": {},
   "outputs": [],
   "source": [
    "fdist = FreqDist(len(w) for w in text1)  # fdist = FreqDist(text1)\n",
    "print(fdist.values())\n",
    "print(len(fdist.values()))"
   ]
  },
  {
   "cell_type": "code",
   "execution_count": null,
   "metadata": {},
   "outputs": [],
   "source": [
    "print(fdist) #26만개 단어 중 단어 길이는 모두 19개."
   ]
  },
  {
   "cell_type": "code",
   "execution_count": null,
   "metadata": {},
   "outputs": [],
   "source": [
    "fdist.most_common() #Suprise! 단어 길이가 19개인 단어는 없습니다.  "
   ]
  },
  {
   "cell_type": "markdown",
   "metadata": {},
   "source": [
    "갑자기 길이가 18, 길이가 20인 단어가 궁금해지지 않았나요?"
   ]
  },
  {
   "cell_type": "code",
   "execution_count": null,
   "metadata": {},
   "outputs": [],
   "source": [
    "long_18_word = [w for w in text1 if len(w)==18]\n",
    "long_20_word = [w for w in text1 if len(w)==20]\n",
    "print(long_18_word, long_20_word)"
   ]
  },
  {
   "cell_type": "code",
   "execution_count": null,
   "metadata": {},
   "outputs": [],
   "source": [
    "print(fdist.max(), fdist[fdist.max()])"
   ]
  },
  {
   "cell_type": "markdown",
   "metadata": {},
   "source": [
    "길이가 3인 단어의 빈도가 전체 단어 중 19.2%를 차지합니다."
   ]
  },
  {
   "cell_type": "code",
   "execution_count": null,
   "metadata": {},
   "outputs": [],
   "source": [
    "'%2.2f%%' % np.round(fdist.freq(3)*100, 3)"
   ]
  },
  {
   "cell_type": "markdown",
   "metadata": {},
   "source": [
    "길이가 5인 단어의 빈도는 전체 단어 중 1.35%에 불과하군요."
   ]
  },
  {
   "cell_type": "code",
   "execution_count": null,
   "metadata": {},
   "outputs": [],
   "source": [
    "'%2.2f%%' % np.round(fdist.freq(10)*100, 3)"
   ]
  },
  {
   "cell_type": "markdown",
   "metadata": {},
   "source": [
    "## Quiz: 다음은 무엇을 찾고 싶어 하는 걸까요?"
   ]
  },
  {
   "cell_type": "code",
   "execution_count": null,
   "metadata": {},
   "outputs": [],
   "source": [
    "fdist2 = FreqDist(text2)\n",
    "\n",
    "swords = [w for w in set(text2) if len(w)>3 and fdist2[w]>500]\n",
    "sorted(swords)"
   ]
  },
  {
   "cell_type": "markdown",
   "metadata": {},
   "source": [
    "## 단어 비교 함수 \n",
    "- **s.endswith(t)**: 문자열 s가 접미어 t를 갖는지 조사합니다.\n",
    "- **s.istitle()** : 문자열 s가 제목(title)인지 조사합니다. 첫 글자가 대문자인지 조사합니다.\n",
    "- **s.isdigit()**: 문자열 s가 숫자인지 조사합니다. \n",
    "- **t in s** : 부분문자열 t가 문자열 s 에 있는지 조사합니다."
   ]
  },
  {
   "cell_type": "code",
   "execution_count": null,
   "metadata": {},
   "outputs": [],
   "source": [
    "sorted(w for w in set(text1) if w.endswith('ableness'))\n",
    "#sorted(w for w in set(text1) if w.endswith('cial'))"
   ]
  },
  {
   "cell_type": "code",
   "execution_count": null,
   "metadata": {},
   "outputs": [],
   "source": [
    "sorted(term for term in set(text4) if 'gnt' in term)\n",
    "#sorted(term for term in set(text4) if 'ded' in term)"
   ]
  },
  {
   "cell_type": "code",
   "execution_count": null,
   "metadata": {},
   "outputs": [],
   "source": [
    "lst = sorted(item for item in set(text6) if item.istitle())\n",
    "lst[:10]"
   ]
  },
  {
   "cell_type": "code",
   "execution_count": null,
   "metadata": {},
   "outputs": [],
   "source": [
    "print(sent7)\n",
    "sorted(item for item in set(sent7) if item.isdigit())"
   ]
  },
  {
   "cell_type": "markdown",
   "metadata": {},
   "source": [
    "## 문자열 출력"
   ]
  },
  {
   "cell_type": "code",
   "execution_count": null,
   "metadata": {},
   "outputs": [],
   "source": [
    "sent1"
   ]
  },
  {
   "cell_type": "markdown",
   "metadata": {},
   "source": [
    "- print(word, end=' ') : newline 대신 end 옵션에서 지정한 문자열을 출력. \n",
    "- print(word) : 출력할 때마다 newline이 붙음. - 여러 줄에 걸쳐 길게 출력."
   ]
  },
  {
   "cell_type": "code",
   "execution_count": null,
   "metadata": {},
   "outputs": [],
   "source": [
    "for word in sent1:\n",
    "    print(word, end=' ') \n",
    "    #print(word) "
   ]
  },
  {
   "cell_type": "code",
   "execution_count": null,
   "metadata": {},
   "outputs": [],
   "source": [
    "for token in sent1:\n",
    "    if token.islower():\n",
    "        print(token, 'is a lowercase word')\n",
    "    elif token.istitle():\n",
    "        print(token, 'is a titlecase word')\n",
    "    else:\n",
    "        print(token, 'is a punctuation')"
   ]
  },
  {
   "cell_type": "code",
   "execution_count": null,
   "metadata": {},
   "outputs": [],
   "source": []
  }
 ],
 "metadata": {
  "kernelspec": {
   "display_name": "Python 3",
   "language": "python",
   "name": "python3"
  },
  "language_info": {
   "codemirror_mode": {
    "name": "ipython",
    "version": 3
   },
   "file_extension": ".py",
   "mimetype": "text/x-python",
   "name": "python",
   "nbconvert_exporter": "python",
   "pygments_lexer": "ipython3",
   "version": "3.7.6"
  }
 },
 "nbformat": 4,
 "nbformat_minor": 2
}
