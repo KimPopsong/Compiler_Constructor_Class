{
 "cells": [
  {
   "cell_type": "markdown",
   "metadata": {},
   "source": [
    "# 구문 분석: Part IV - Chart Parser"
   ]
  },
  {
   "cell_type": "markdown",
   "metadata": {},
   "source": [
    "All rights reserved, 2021, By Youn-Sik Hong. 수업 목적으로만 활용 가능."
   ]
  },
  {
   "cell_type": "markdown",
   "metadata": {},
   "source": [
    "- 참고 사이트 \n",
    "    - nltk book 8.Analyzing sentence structure(https://www.nltk.org/book/ch08.html) 내용을 참고해서 자료를 만듦. \n",
    "    - nltk book의 8장 예제를 일부 사용.\n",
    "- 참고 서적\n",
    "    - Natural Language Processing with Python Cookbook, Krishna Bhavsar, Naresh Kumar, Pratap Dangeti, Packt Publishing, 2017.\n",
    "    - Chapter 6, Chapter 7의 예제를 일부 사용."
   ]
  },
  {
   "cell_type": "markdown",
   "metadata": {},
   "source": [
    "### Prerequisite\n",
    "동영상 강의(6장-하향식 구문분석 및 상향식 구문분석)을 시청한 후에 실습을 진행해야 함."
   ]
  },
  {
   "cell_type": "markdown",
   "metadata": {},
   "source": [
    "여기서 다룰 내용은\n",
    "- 다양한 문장 구조를 표현하려면 형식 문법을 어떻게 사용하면 될까? \n",
    "- 구문 트리를 사용하여 문장 구조를 어떻게 보여줄 수 있을까?\n",
    "- 파서가 문장을 어떻게 분석하고, 구문 트리를 자동으로 만들어 낼까?"
   ]
  },
  {
   "cell_type": "code",
   "execution_count": null,
   "metadata": {},
   "outputs": [],
   "source": [
    "import nltk"
   ]
  },
  {
   "cell_type": "markdown",
   "metadata": {},
   "source": [
    "## 3.4   부분문자열 테이블(Well-Formed Substring Tables, wfst) - Chart Parsing\n",
    "- 위에서 살펴 본 간단한 파서는 완전함(completeness)과 효율 측면에서 한계가 있다. 이를 해결하기 위해 동적 프로그래밍 기법을 구문분석 문제에 적용할 것이다. \n",
    "    - 동적 프로그래밍은 중간 연산 결과를 저장하고 필요할 때 다시 사용함으로써 효율을 향상시킬 수 있다. 이를 구문분석에 적용 할 수 있다. \n",
    "    - 즉, 구문분석 작업에 대한 중간 처리 결과를 저장하고, 필요에 따라 이 내용을 참조하여 완전한 결과를 얻을 수 있다. \n",
    "    - 이러한 구문분석 접근 방식을 chart parsing이라고 한다. \n",
    "- 동적 프로그래밍에서는 in my pajamas와 같은 전치사구(PP)는 한 번만 만들면 된다. \n",
    "    - 처음 이 구문을 분석하면서 이 결과를 테이블에 저장하고, NP나 VP의 하위 구성요소로 사용해야 할 때 테이블에서 이를 찾으면 된다. \n",
    "    - 이 테이블을 WFST(well-formed substring table)로 부른다. 여기서 \"substring\"은 문장 내에서 연속적인 단어 시퀀스를 말한다. \n",
    "    - 발견한 구문 구성요소를 체계적으로 WFST에 상향식(bottom-up)으로 기록하는 과정을 살펴볼 것이다."
   ]
  },
  {
   "cell_type": "code",
   "execution_count": null,
   "metadata": {},
   "outputs": [],
   "source": [
    "groucho_grammar = nltk.CFG.fromstring(\"\"\"\n",
    "S -> NP VP\n",
    "PP -> P NP\n",
    "NP -> Det N | Det N PP | 'I'\n",
    "VP -> V NP | VP PP\n",
    "Det -> 'an' | 'my'\n",
    "N -> 'elephant' | 'pajamas'\n",
    "V -> 'shot'\n",
    "P -> 'in'\n",
    "\"\"\")"
   ]
  },
  {
   "cell_type": "code",
   "execution_count": null,
   "metadata": {},
   "outputs": [],
   "source": [
    "text = ['I', 'shot', 'an', 'elephant', 'in', 'my', 'pajamas']\n",
    "p = groucho_grammar.productions(rhs=text[6]) #pajamas를 rhs로 갖는 생성규칙 : N->'pajamas'\n",
    "\n",
    "print(len(p))\n",
    "print(p[0]) #생성규칙이 여러 개이면, 그 중 첫 번째 생성규칙을 선택.\n",
    "print(p[0].lhs())\n",
    "print(p[0].rhs())"
   ]
  },
  {
   "cell_type": "markdown",
   "metadata": {},
   "source": [
    "### wfst  초기화\n",
    "- 2차원 테이블 = (numtoken+1) x (numtoken+1)\n",
    "- 테이블의 모든 값은 None으로 초기화.\n",
    "- 각 행은 문장에 나타난 token 순서와 같음. 생성규칙에서 token을 rhs로 갖는 생성규칙의 lhs를 할당\n",
    "    - 대각선에 해당하는 부분만 lhs가 할당됨.\n",
    "- wfst의 첫 번째 열과 마지막 행(numtoken+1)은 모두 None을 갖고 있음."
   ]
  },
  {
   "cell_type": "code",
   "execution_count": null,
   "metadata": {},
   "outputs": [],
   "source": [
    "def init_wfst(tokens, grammar):\n",
    "    numtokens = len(tokens)\n",
    "    wfst = [[None for i in range(numtokens+1)] for j in range(numtokens+1)]\n",
    "    for i in range(numtokens):\n",
    "        productions = grammar.productions(rhs=tokens[i])\n",
    "        wfst[i][i+1] = productions[0].lhs()\n",
    "    return wfst"
   ]
  },
  {
   "cell_type": "code",
   "execution_count": null,
   "metadata": {},
   "outputs": [],
   "source": [
    "import numpy as np\n",
    "\n",
    "tokens = \"I shot an elephant in my pajamas\".split()\n",
    "wfst0 = init_wfst(tokens, groucho_grammar)\n",
    "\n",
    "print(tokens)\n",
    "print(len(tokens), np.ndim(wfst0))"
   ]
  },
  {
   "cell_type": "markdown",
   "metadata": {},
   "source": [
    "wfst 테이블을 출력해보자."
   ]
  },
  {
   "cell_type": "code",
   "execution_count": null,
   "metadata": {},
   "outputs": [],
   "source": [
    "from IPython.display import display\n",
    "\n",
    "display(wfst0, tokens)"
   ]
  },
  {
   "cell_type": "markdown",
   "metadata": {},
   "source": [
    "display 함수를 재정의하여 보기좋게 출력되도록 만들어 보자."
   ]
  },
  {
   "cell_type": "code",
   "execution_count": null,
   "metadata": {},
   "outputs": [],
   "source": [
    "def display(wfst, tokens):\n",
    "    print('\\nWFST ' + ' '.join((\"%-4d\" % i) for i in range(1, len(wfst))))\n",
    "    for i in range(len(wfst)-1):\n",
    "        print(\"%d   \" % i, end=\" \")\n",
    "        for j in range(1, len(wfst)):\n",
    "            print(\"%-4s\" % (wfst[i][j] or '.'), end=\" \")\n",
    "        print()"
   ]
  },
  {
   "cell_type": "code",
   "execution_count": null,
   "metadata": {},
   "outputs": [],
   "source": [
    "display(wfst0, tokens)"
   ]
  },
  {
   "cell_type": "code",
   "execution_count": null,
   "metadata": {},
   "outputs": [],
   "source": [
    "print(len(groucho_grammar.productions()))\n",
    "index = dict((p.rhs(), p.lhs()) for p in groucho_grammar.productions())\n",
    "print(index)"
   ]
  },
  {
   "cell_type": "markdown",
   "metadata": {},
   "source": [
    "- 상향식 구문분석으로 진행된다. \n",
    "    - 생성규칙 오른쪽에 있는 패턴을 찾아, 이 생성규칙 왼쪽에 있는 Nonterminal로 변환 가능한 지를 grammar에서 확인한다. "
   ]
  },
  {
   "cell_type": "markdown",
   "metadata": {},
   "source": [
    "### wfst 구성 과정  : for span in range(2, 7+1) 에서 span=2일 때\n",
    "- span=2, start=0, end=2, mid=1 대각선으로 한 칸 떨어진 2개의 Nonterminal(NP, V) 비교\n",
    "    - (NP, V) = wfst0[0][1], wfst0[1][2]. (NP, V)는 생성규칙의 rhs에 없기 때문에 lhs를 찾을 수 없음. \n",
    "- span=2, start=1, end=3, mid=2 대각선으로 한 칸 떨어진 2개의 Nonterminal (V, Det) 비교\n",
    "    - (V, Det) = wfst0[1][2], wfst0[2][3]. (V, Det)는 생성규칙의 rhs에 없기 때문에 lhs를 찾을 수 없음.\n",
    "- span=2, start=2, end=4, mid=3 대각선으로 한 칸 떨어진 2개의 Nonterminal (Det, N) 비교\n",
    "    - (Det, N) = wfst0[2][3], wfst0[3][4]. (Det, N)은 생성규칙의 rhs에 있으며, **lhs인 NP를 찾을 수 있음.**\n",
    "- span=2, start=3, end=5, mid=4 대각선으로 한 칸 떨어진 2개의 Nonterminal (N, P) 비교\n",
    "    - (N, P) = wfst0[3][4], wfst0[4][5]. (N, P)는 생성규칙의 rhs에 없으며, lhs를 찾을 수 없음.\n",
    "- span=2, start=4, end=7, mid=5 대각선으로 한 칸 떨어진 2개의 Nonterminal (P, Det) 비교\n",
    "    - (P, Det) = wfst0[4][5], wfst0[5][6]. (P, Det)는 생성규칙의 rhs에 없으며, lhs를 찾을 수 없음.\n",
    "- span=2, start=5, end=8, mid=6 대각선으로 한 칸 떨어진 2개의 Nonterminal (Det, N) 비교\n",
    "    - (Det, N) = wfst0[5][6], wfst0[6][7]. (Det, N)은 생성규칙의 rhs에 있으며, **lhs인 NP를 찾을 수 있음.**"
   ]
  },
  {
   "cell_type": "code",
   "execution_count": null,
   "metadata": {},
   "outputs": [],
   "source": [
    "span = 2\n",
    "for start in range(7+1-span):\n",
    "    end = start + span\n",
    "    for mid in range(start+1, end):\n",
    "        print(span, start, mid, end, end=' ')\n",
    "        nt1, nt2 = wfst0[start][mid], wfst0[mid][end]  \n",
    "        print(nt1, nt2, end=' ')\n",
    "            \n",
    "        if nt1 and nt2 and (nt1,nt2) in index:\n",
    "            wfst0[start][end] = index[(nt1,nt2)]\n",
    "            print('lhs=', wfst0[start][end], end=' ')            \n",
    "    print()"
   ]
  },
  {
   "cell_type": "markdown",
   "metadata": {},
   "source": [
    "2군데에서 생성규칙 오른쪽에 있는 패턴(**Det N**)을 찾아 이 생성규칙의 왼쪽에 있는 Nonterminal **NP**를 테이블에 추가했다."
   ]
  },
  {
   "cell_type": "code",
   "execution_count": null,
   "metadata": {},
   "outputs": [],
   "source": [
    "display(wfst0, tokens)"
   ]
  },
  {
   "cell_type": "markdown",
   "metadata": {},
   "source": [
    "### wfst 구성 과정  : for span in range(2, 7+1) 에서 span=3일 때\n",
    "- 이번에는 2칸씩 이동하면서 해당 패턴이 생성규칙의 rhs에 있는지를 확인한다.\n",
    "- 이번에는 \n",
    "    - **V NP** 를 **VP**로, \n",
    "    - **P NP** 를 **PP**로 변환이 가능함을 알 수 있다."
   ]
  },
  {
   "cell_type": "code",
   "execution_count": null,
   "metadata": {},
   "outputs": [],
   "source": [
    "span = 3\n",
    "for start in range(7+1-span):\n",
    "    end = start + span\n",
    "    for mid in range(start+1, end):\n",
    "        print(span, start, mid, end, end=' ')\n",
    "        nt1, nt2 = wfst0[start][mid], wfst0[mid][end]  \n",
    "        print(nt1, nt2, end=' ')\n",
    "            \n",
    "        if nt1 and nt2 and (nt1,nt2) in index:\n",
    "            wfst0[start][end] = index[(nt1,nt2)]\n",
    "            print('lhs=', wfst0[start][end])  \n",
    "    print()"
   ]
  },
  {
   "cell_type": "code",
   "execution_count": null,
   "metadata": {},
   "outputs": [],
   "source": [
    "display(wfst0, tokens)"
   ]
  },
  {
   "cell_type": "markdown",
   "metadata": {},
   "source": [
    "이제 제대로된 함수 complete_wfst를 완성해 보자."
   ]
  },
  {
   "cell_type": "code",
   "execution_count": null,
   "metadata": {},
   "outputs": [],
   "source": [
    "def complete_wfst(wfst, tokens, grammar, trace=False):\n",
    "    index = dict((p.rhs(), p.lhs()) for p in grammar.productions())\n",
    "    numtokens = len(tokens)\n",
    "    for span in range(2, numtokens+1):\n",
    "        for start in range(numtokens+1-span):\n",
    "            end = start + span\n",
    "            for mid in range(start+1, end):\n",
    "                nt1, nt2 = wfst[start][mid], wfst[mid][end]\n",
    "                if nt1 and nt2 and (nt1,nt2) in index:\n",
    "                    wfst[start][end] = index[(nt1,nt2)]\n",
    "                    if trace:\n",
    "                        print(\"[%s] %3s [%s] %3s [%s] ==> [%s] %3s [%s]\" % \\\n",
    "                        (start, nt1, mid, nt2, end, start, index[(nt1,nt2)], end))\n",
    "    return wfst"
   ]
  },
  {
   "cell_type": "code",
   "execution_count": null,
   "metadata": {},
   "outputs": [],
   "source": [
    "wfst1 = complete_wfst(wfst0, tokens, groucho_grammar)\n",
    "display(wfst1, tokens)"
   ]
  },
  {
   "cell_type": "markdown",
   "metadata": {},
   "source": [
    "**trace=True** : 생성규칙의 rhs 패턴을 찾아 해당 생성규칙의 Nonterminal을 추가한 사례를 확인할 수 있다."
   ]
  },
  {
   "cell_type": "code",
   "execution_count": null,
   "metadata": {},
   "outputs": [],
   "source": [
    "wfst1 = complete_wfst(wfst0, tokens, groucho_grammar, trace=True)"
   ]
  },
  {
   "cell_type": "markdown",
   "metadata": {},
   "source": [
    "이번에는 ChartParser 라이브러리를 사용하여 구현해보자."
   ]
  },
  {
   "cell_type": "code",
   "execution_count": null,
   "metadata": {},
   "outputs": [],
   "source": [
    "grammar2 = nltk.CFG.fromstring(\"\"\"\n",
    "S -> NP VP\n",
    "NP -> NNP VBZ\n",
    "VP -> IN NNP | DT NN IN NNP\n",
    "NNP -> 'Incheon' | 'Songdo' | 'Seoul' | 'Korea'\n",
    "VBZ -> 'is'\n",
    "IN -> 'in' | 'of'\n",
    "DT -> 'the'\n",
    "NN -> 'capital'\n",
    "\"\"\")"
   ]
  },
  {
   "cell_type": "code",
   "execution_count": null,
   "metadata": {},
   "outputs": [],
   "source": [
    "from nltk.parse.chart import ChartParser, BU_LC_STRATEGY\n",
    "\n",
    "cp = ChartParser(grammar2, BU_LC_STRATEGY, trace=True)\n",
    "\n",
    "tokens = \"Seoul is the capital of Korea\".split()"
   ]
  },
  {
   "cell_type": "code",
   "execution_count": null,
   "metadata": {},
   "outputs": [],
   "source": [
    "chart = cp.chart_parse(tokens)\n",
    "parses = list(chart.parses(grammar2.start()))\n",
    "print(\"Total Edges :\", len(chart.edges()))"
   ]
  },
  {
   "cell_type": "code",
   "execution_count": null,
   "metadata": {},
   "outputs": [],
   "source": [
    "for tree in parses: \n",
    "    print(tree)\n",
    "    tree.draw()"
   ]
  },
  {
   "cell_type": "code",
   "execution_count": null,
   "metadata": {},
   "outputs": [],
   "source": []
  }
 ],
 "metadata": {
  "kernelspec": {
   "display_name": "Python 3",
   "language": "python",
   "name": "python3"
  },
  "language_info": {
   "codemirror_mode": {
    "name": "ipython",
    "version": 3
   },
   "file_extension": ".py",
   "mimetype": "text/x-python",
   "name": "python",
   "nbconvert_exporter": "python",
   "pygments_lexer": "ipython3",
   "version": "3.7.6"
  }
 },
 "nbformat": 4,
 "nbformat_minor": 2
}
