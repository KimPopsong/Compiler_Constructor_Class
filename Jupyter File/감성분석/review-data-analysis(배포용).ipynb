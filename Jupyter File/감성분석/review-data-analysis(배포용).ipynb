{
 "cells": [
  {
   "cell_type": "markdown",
   "metadata": {},
   "source": [
    "All rights reserved, 2021, By Youn-Sik Hong. 수업 목적으로만 활용 가능."
   ]
  },
  {
   "cell_type": "markdown",
   "metadata": {},
   "source": [
    "- 참고 서적\n",
    "    - Python Machine Learning(3rd Ed.), Sebastian Raschka , Vahid Mirjalili, Packt, 2019.10.\n",
    "        - 8장. Applying Machine Learning to Sentiment Analysis 코드 참조.\n",
    "    - 텐서플로2와 머신러닝으로 시작하는 자연어 처리, 전창욱, 최태균, 조중현, 신성진 지음, 위키북스, 2020.\n",
    "        - 4장. 텍스트 분류 예제 참조."
   ]
  },
  {
   "cell_type": "code",
   "execution_count": null,
   "metadata": {},
   "outputs": [],
   "source": [
    "import os\n",
    "import pandas as pd\n",
    "import numpy as np\n",
    "import csv\n",
    "import matplotlib.pyplot as plt\n",
    "import seaborn as sns\n",
    "from wordcloud import WordCloud"
   ]
  },
  {
   "cell_type": "code",
   "execution_count": null,
   "metadata": {},
   "outputs": [],
   "source": [
    "DATA_IN_PATH = './data_in/'\n",
    "print('파일 크기: ')\n",
    "\n",
    "for file in os.listdir(DATA_IN_PATH):\n",
    "    if 'txt' in file:\n",
    "        fsize = round(os.path.getsize(DATA_IN_PATH + file)/1000000, 2)\n",
    "        file_unit = str(fsize) + 'MB'\n",
    "        print(file.ljust(30)+ file_unit)"
   ]
  },
  {
   "cell_type": "code",
   "execution_count": null,
   "metadata": {},
   "outputs": [],
   "source": [
    "train_fname = DATA_IN_PATH + 'ratings_train.txt'\n",
    "train_data = pd.read_csv(train_fname, header=0, delimiter='\\t', quoting=csv.QUOTE_NONE)\n",
    "# quoting 옵션은 csv파일을 dataframe으로 바꿀 때 따옴표(\")는 무시하겠다는 뜻.\n",
    "# ratings.txt 파일에는 따옴표는 없음. naver에서 말뭉치로 바꾸면서 모두 없앤 것으로 보임."
   ]
  },
  {
   "cell_type": "code",
   "execution_count": null,
   "metadata": {},
   "outputs": [],
   "source": [
    "train_data.head()"
   ]
  },
  {
   "cell_type": "code",
   "execution_count": null,
   "metadata": {},
   "outputs": [],
   "source": [
    "#train_data.shape\n",
    "#train_data.info() # document 중에 null 값이 5개 있음.\n",
    "#train_data[\"document\"][:5]\n",
    "train_data[train_data['document'].isnull()]"
   ]
  },
  {
   "cell_type": "code",
   "execution_count": null,
   "metadata": {},
   "outputs": [],
   "source": [
    "#print('train data 수:{}'.format(len(train_data)))\n",
    "print('train data = %d' % (len(train_data)))"
   ]
  },
  {
   "cell_type": "code",
   "execution_count": null,
   "metadata": {},
   "outputs": [],
   "source": [
    "f = lambda x: len(x)\n",
    "train_length = train_data['document'].astype(str).apply(f)\n",
    "\n",
    "train_length.head()\n",
    "#train_length.sort_values(ascending=False)"
   ]
  },
  {
   "cell_type": "code",
   "execution_count": null,
   "metadata": {},
   "outputs": [],
   "source": [
    "plt.figure(figsize=(12,5))\n",
    "plt.hist(train_length, bins=200, alpha=0.5, color='r', label='word')\n",
    "plt.yscale('log', nonposy='clip')\n",
    "plt.title('Log-histogram of length of review')\n",
    "plt.xlabel('Length of review')\n",
    "plt.ylabel('Number of review')"
   ]
  },
  {
   "cell_type": "code",
   "execution_count": null,
   "metadata": {},
   "outputs": [],
   "source": [
    "print('리뷰 길이 최대값: %d' % (np.max(train_length)))\n",
    "print('리뷰 길이 최소값: %d' % (np.min(train_length)))\n",
    "print('리뷰 길이 평균값: %.2f' % (np.mean(train_length)))\n",
    "print('리뷰 길이 표준편차: %.2f' % (np.std(train_length)))\n",
    "print('리뷰 길이 중간값: %.1f' % (np.median(train_length)))\n",
    "print('리뷰 길이 제1사분위: %.1f' %  (np.percentile(train_length, 25)))\n",
    "print('리뷰 길이 제3사분위: %.1f' % (np.percentile(train_length, 75)))"
   ]
  },
  {
   "cell_type": "code",
   "execution_count": null,
   "metadata": {},
   "outputs": [],
   "source": [
    "plt.figure(figsize=(12,5))\n",
    "plt.boxplot(train_length, labels=['counts'], showmeans=True)"
   ]
  },
  {
   "cell_type": "code",
   "execution_count": null,
   "metadata": {},
   "outputs": [],
   "source": [
    "train_review = [review for review in train_data['document'] if type(review) is str]\n",
    "#train_review[:2]"
   ]
  },
  {
   "cell_type": "code",
   "execution_count": null,
   "metadata": {},
   "outputs": [],
   "source": [
    "hangul_ttf = DATA_IN_PATH + 'NanumGothic.ttf'\n",
    "wordcloud = WordCloud(font_path=hangul_ttf).generate(' '.join(train_review))"
   ]
  },
  {
   "cell_type": "code",
   "execution_count": null,
   "metadata": {},
   "outputs": [],
   "source": [
    "plt.imshow(wordcloud, interpolation='bilinear')\n",
    "plt.axis('off')\n",
    "plt.show()"
   ]
  },
  {
   "cell_type": "code",
   "execution_count": null,
   "metadata": {},
   "outputs": [],
   "source": [
    "fig, axe = plt.subplots(ncols=1)\n",
    "fig.set_size_inches(6, 3)\n",
    "sns.countplot(train_data['label'])"
   ]
  },
  {
   "cell_type": "code",
   "execution_count": null,
   "metadata": {},
   "outputs": [],
   "source": [
    "neg_review = train_data['label'].value_counts()[0]\n",
    "pos_review = train_data['label'].value_counts()[1]\n",
    "print('긍정 리뷰 개수:{}'.format(pos_review))\n",
    "print('부정 리뷰 개수:{}'.format(neg_review))"
   ]
  },
  {
   "cell_type": "code",
   "execution_count": null,
   "metadata": {},
   "outputs": [],
   "source": [
    "qmarks = np.mean(train_data['document'].astype(str).apply(lambda x:'?' in x))\n",
    "fullstop = np.mean(train_data['document'].astype(str).apply(lambda x:'.' in x))"
   ]
  },
  {
   "cell_type": "code",
   "execution_count": null,
   "metadata": {},
   "outputs": [],
   "source": [
    "print('물음표가 있는 질문:{:.2f}%'.format(qmarks * 100))\n",
    "print('마침표가 있는 질문:{:.2f}%'.format(fullstop * 100))"
   ]
  },
  {
   "cell_type": "code",
   "execution_count": null,
   "metadata": {},
   "outputs": [],
   "source": []
  }
 ],
 "metadata": {
  "kernelspec": {
   "display_name": "Python 3",
   "language": "python",
   "name": "python3"
  },
  "language_info": {
   "codemirror_mode": {
    "name": "ipython",
    "version": 3
   },
   "file_extension": ".py",
   "mimetype": "text/x-python",
   "name": "python",
   "nbconvert_exporter": "python",
   "pygments_lexer": "ipython3",
   "version": "3.7.6"
  }
 },
 "nbformat": 4,
 "nbformat_minor": 2
}
