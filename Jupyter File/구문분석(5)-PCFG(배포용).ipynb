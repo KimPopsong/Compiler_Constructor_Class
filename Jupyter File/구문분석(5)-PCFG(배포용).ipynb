{
 "cells": [
  {
   "cell_type": "markdown",
   "metadata": {},
   "source": [
    "# 구문 분석: Part V - PCFG"
   ]
  },
  {
   "cell_type": "markdown",
   "metadata": {},
   "source": [
    "All rights reserved, 2021, By Youn-Sik Hong. 수업 목적으로만 활용 가능."
   ]
  },
  {
   "cell_type": "markdown",
   "metadata": {},
   "source": [
    "- 참고 사이트 \n",
    "    - nltk book 8.Analyzing sentence structure(https://www.nltk.org/book/ch08.html) 내용을 참고해서 자료를 만듦. \n",
    "    - nltk book의 8장 예제를 일부 사용.\n",
    "- 참고 서적\n",
    "    - Natural Language Processing with Python Cookbook, Krishna Bhavsar, Naresh Kumar, Pratap Dangeti, Packt Publishing, 2017.\n",
    "    - Chapter 6, Chapter 7의 예제를 일부 사용."
   ]
  },
  {
   "cell_type": "markdown",
   "metadata": {},
   "source": [
    "### Prerequisite\n",
    "동영상 강의(6장-하향식 구문분석 및 상향식 구문분석)을 시청한 후에 실습을 진행해야 함."
   ]
  },
  {
   "cell_type": "markdown",
   "metadata": {},
   "source": [
    "여기서 다룰 내용은\n",
    "- 다양한 문장 구조를 표현하려면 형식 문법을 어떻게 사용하면 될까? \n",
    "- 구문 트리를 사용하여 문장 구조를 어떻게 보여줄 수 있을까?\n",
    "- 파서가 문장을 어떻게 분석하고, 구문 트리를 자동으로 만들어 낼까?"
   ]
  },
  {
   "cell_type": "code",
   "execution_count": null,
   "metadata": {},
   "outputs": [],
   "source": [
    "import nltk\n",
    "from nltk.parse.generate import generate"
   ]
  },
  {
   "cell_type": "markdown",
   "metadata": {},
   "source": [
    "## 3.5 확률 문법(Probabilistic CFG, PCFG)"
   ]
  },
  {
   "cell_type": "markdown",
   "metadata": {},
   "source": [
    "각 생성규칙에 확률이 할당된 CFG. \n",
    "- Nontermial 기호에 대한 생성규칙의 확률 합은 1과 같아야 함. (**VP**의 경우 0.4+0.3+0.3=1.0)\n",
    "- CFG가 생성하는 구문 트리와 같지만, 각 노드에 확률을 할당. \n",
    "- PCFG가 생성하는 노드의 확률은 해당 생성규칙과 이 생성규칙을 생성하는 규칙의 곱. "
   ]
  },
  {
   "cell_type": "code",
   "execution_count": null,
   "metadata": {},
   "outputs": [],
   "source": [
    "grammar = nltk.PCFG.fromstring(\"\"\"\n",
    "    S    -> NP VP              [1.0]\n",
    "    VP   -> TV NP              [0.4]\n",
    "    VP   -> IV                 [0.3]\n",
    "    VP   -> DatV NP NP         [0.3]\n",
    "    TV   -> 'saw'              [1.0]\n",
    "    IV   -> 'ate'              [1.0]\n",
    "    DatV -> 'gave'             [1.0]\n",
    "    NP   -> 'telescopes'       [0.8]\n",
    "    NP   -> 'Jack'             [0.2]\n",
    "    \"\"\")"
   ]
  },
  {
   "cell_type": "code",
   "execution_count": null,
   "metadata": {},
   "outputs": [],
   "source": [
    "print(grammar)"
   ]
  },
  {
   "cell_type": "markdown",
   "metadata": {},
   "source": [
    "- PCFG 구문 분석기는 viterbi 알고리즘을 채택해 구현한 viterbi parser를 사용한다.\n",
    "    - viterbi 알고리즘 관련 참고사이트 : https://www.audiolabs-erlangen.de/resources/MIR/FMP/C5/C5S3_Viterbi.html\n",
    "        - viterbi 알고리즘은 HMM(hidden Markov Models) 문제를 확률 기반으로 해결. \n",
    "    - viterbi parser 참고사이트 : https://www.nltk.org/_modules/nltk/parse/viterbi.html\n",
    "        - viterbi parser 알고리즘을 pseudo code로 설명\n",
    "- **S -> NP VP**(1.0) x **NP -> 'Jack'** (0.2) x **VP -> TV NP** (0.4) x **TV -> 'saw'**(1.0) x **NP -> 'telescopes'**(0.8) = 0.064"
   ]
  },
  {
   "cell_type": "code",
   "execution_count": null,
   "metadata": {},
   "outputs": [],
   "source": [
    "viterbi_parser = nltk.ViterbiParser(grammar)\n",
    "for tree in viterbi_parser.parse(['Jack', 'saw', 'telescopes']):\n",
    "    print(tree)\n",
    "    tree.draw()"
   ]
  },
  {
   "cell_type": "markdown",
   "metadata": {},
   "source": [
    "간단한 문법 예제를 통해 PCFG가 문장을 어떻게 생성하는지 알아보자.\n",
    "- 이 문법은 길이가 1에서 4까지 단어를 생성한다.\n",
    "- 첫번째 글자는 A이지만(확률 1), 두번째 글자는 B,C, 세번째 글자는 D,E,F, 마지막 글자는 G,H이다."
   ]
  },
  {
   "cell_type": "code",
   "execution_count": null,
   "metadata": {},
   "outputs": [],
   "source": [
    "productions = [\n",
    "    \"ROOT -> WORD [1.0]\",\n",
    "    \"WORD -> P1 [0.25]\",\n",
    "    \"WORD -> P1 P2 [0.25]\",\n",
    "    \"WORD -> P1 P2 P3 [0.25]\",\n",
    "    \"WORD -> P1 P2 P3 P4 [0.25]\",\n",
    "    \"P1 -> 'A' [1.0]\",\n",
    "    \"P2 -> 'B' [0.5]\",    \n",
    "    \"P2 -> 'C' [0.5]\",\n",
    "    \"P3 -> 'D' [0.3]\",\n",
    "    \"P3 -> 'E' [0.3]\",\n",
    "    \"P3 -> 'F' [0.4]\",\n",
    "    \"P4 -> 'G' [0.9]\",\n",
    "    \"P4 -> 'H' [0.1]\",\n",
    "]"
   ]
  },
  {
   "cell_type": "code",
   "execution_count": null,
   "metadata": {},
   "outputs": [],
   "source": [
    "grammarString = \"\\n\".join(productions)\n",
    "grammar2 = nltk.PCFG.fromstring(grammarString)\n",
    "print(grammar2)"
   ]
  },
  {
   "cell_type": "markdown",
   "metadata": {},
   "source": [
    "주어진 문법이 어떤 문장을 생성하는지 모두 찾아보자. \n",
    "- **depth**는 구문 트리의 depth, **n**은 생성할 문장의 최대 갯수이다.\n",
    "- n을 30으로 지정했지만 생성 가능한 문장 개수는 모두 21개이다. \n",
    "- 구문트리의 최대 depth는 3이지만, depth=**3+1**로 지정해야 한다."
   ]
  },
  {
   "cell_type": "code",
   "execution_count": null,
   "metadata": {},
   "outputs": [],
   "source": [
    "i = 0\n",
    "for sent in generate(grammar2, n=30, depth=4):  \n",
    "    wd = \"\".join(sent).replace(\" \", \"\")\n",
    "    print(\"{} >>> generated word: {}, size: {}\".format(i, wd, len(wd)))   \n",
    "    i += 1    "
   ]
  },
  {
   "cell_type": "markdown",
   "metadata": {},
   "source": [
    "- 확률이 왜 0.005일까?\n",
    "    - ROOT -> WORD [1.0]\n",
    "    - WORD -> P1 P2 P3 P4 [0.25]\n",
    "    - P1 -> 'A' [1.0], P2 -> 'C' [0.5], P3 -> 'F' [0.4], P4 -> 'H' [0.1]\n",
    "    - 0.25x1.0x0.5x0.4x0.1=0.005"
   ]
  },
  {
   "cell_type": "code",
   "execution_count": null,
   "metadata": {},
   "outputs": [],
   "source": [
    "viterbi_parser = nltk.ViterbiParser(grammar2)\n",
    "for tree in viterbi_parser.parse(['A', 'C', 'F', 'H']):\n",
    "    print(tree)\n",
    "    tree.draw()"
   ]
  },
  {
   "cell_type": "code",
   "execution_count": null,
   "metadata": {},
   "outputs": [],
   "source": []
  }
 ],
 "metadata": {
  "kernelspec": {
   "display_name": "Python 3",
   "language": "python",
   "name": "python3"
  },
  "language_info": {
   "codemirror_mode": {
    "name": "ipython",
    "version": 3
   },
   "file_extension": ".py",
   "mimetype": "text/x-python",
   "name": "python",
   "nbconvert_exporter": "python",
   "pygments_lexer": "ipython3",
   "version": "3.7.6"
  }
 },
 "nbformat": 4,
 "nbformat_minor": 2
}
